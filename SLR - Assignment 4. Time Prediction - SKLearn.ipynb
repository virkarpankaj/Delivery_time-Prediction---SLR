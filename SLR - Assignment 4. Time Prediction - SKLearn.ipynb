{
 "cells": [
  {
   "cell_type": "markdown",
   "id": "12f35039",
   "metadata": {},
   "source": [
    "## Predict Delivery Time from Sorting Time "
   ]
  },
  {
   "cell_type": "code",
   "execution_count": 1,
   "id": "427d7165",
   "metadata": {},
   "outputs": [],
   "source": [
    "import pandas as pd\n",
    "import numpy as np\n",
    "import matplotlib.pyplot as plt\n",
    "%matplotlib inline\n",
    "import seaborn as sns\n",
    "\n",
    "plt.style.use('seaborn-darkgrid')"
   ]
  },
  {
   "cell_type": "code",
   "execution_count": 2,
   "id": "11ddfabf",
   "metadata": {},
   "outputs": [],
   "source": [
    "from sklearn.linear_model import LinearRegression\n",
    "from sklearn.metrics import r2_score"
   ]
  },
  {
   "cell_type": "code",
   "execution_count": 3,
   "id": "4b033b95",
   "metadata": {},
   "outputs": [],
   "source": [
    "import statsmodels.formula.api as smf"
   ]
  },
  {
   "cell_type": "code",
   "execution_count": 4,
   "id": "ccf7ec63",
   "metadata": {},
   "outputs": [],
   "source": [
    "import warnings\n",
    "warnings.filterwarnings('ignore')"
   ]
  },
  {
   "cell_type": "markdown",
   "id": "3098cae6",
   "metadata": {},
   "source": [
    "### Understanding the Data"
   ]
  },
  {
   "cell_type": "code",
   "execution_count": 5,
   "id": "e96126e9",
   "metadata": {},
   "outputs": [],
   "source": [
    "time = pd.read_csv('delivery_time.csv')"
   ]
  },
  {
   "cell_type": "code",
   "execution_count": 6,
   "id": "618dacfe",
   "metadata": {},
   "outputs": [
    {
     "data": {
      "text/html": [
       "<div>\n",
       "<style scoped>\n",
       "    .dataframe tbody tr th:only-of-type {\n",
       "        vertical-align: middle;\n",
       "    }\n",
       "\n",
       "    .dataframe tbody tr th {\n",
       "        vertical-align: top;\n",
       "    }\n",
       "\n",
       "    .dataframe thead th {\n",
       "        text-align: right;\n",
       "    }\n",
       "</style>\n",
       "<table border=\"1\" class=\"dataframe\">\n",
       "  <thead>\n",
       "    <tr style=\"text-align: right;\">\n",
       "      <th></th>\n",
       "      <th>Delivery Time</th>\n",
       "      <th>Sorting Time</th>\n",
       "    </tr>\n",
       "  </thead>\n",
       "  <tbody>\n",
       "    <tr>\n",
       "      <th>0</th>\n",
       "      <td>21.00</td>\n",
       "      <td>10</td>\n",
       "    </tr>\n",
       "    <tr>\n",
       "      <th>1</th>\n",
       "      <td>13.50</td>\n",
       "      <td>4</td>\n",
       "    </tr>\n",
       "    <tr>\n",
       "      <th>2</th>\n",
       "      <td>19.75</td>\n",
       "      <td>6</td>\n",
       "    </tr>\n",
       "    <tr>\n",
       "      <th>3</th>\n",
       "      <td>24.00</td>\n",
       "      <td>9</td>\n",
       "    </tr>\n",
       "  </tbody>\n",
       "</table>\n",
       "</div>"
      ],
      "text/plain": [
       "   Delivery Time  Sorting Time\n",
       "0          21.00            10\n",
       "1          13.50             4\n",
       "2          19.75             6\n",
       "3          24.00             9"
      ]
     },
     "execution_count": 6,
     "metadata": {},
     "output_type": "execute_result"
    }
   ],
   "source": [
    "time.head(4)"
   ]
  },
  {
   "cell_type": "code",
   "execution_count": 7,
   "id": "45405bfd",
   "metadata": {},
   "outputs": [
    {
     "name": "stdout",
     "output_type": "stream",
     "text": [
      "<class 'pandas.core.frame.DataFrame'>\n",
      "RangeIndex: 21 entries, 0 to 20\n",
      "Data columns (total 2 columns):\n",
      " #   Column         Non-Null Count  Dtype  \n",
      "---  ------         --------------  -----  \n",
      " 0   Delivery Time  21 non-null     float64\n",
      " 1   Sorting Time   21 non-null     int64  \n",
      "dtypes: float64(1), int64(1)\n",
      "memory usage: 464.0 bytes\n"
     ]
    }
   ],
   "source": [
    "time.info()"
   ]
  },
  {
   "cell_type": "code",
   "execution_count": 8,
   "id": "f61137c0",
   "metadata": {},
   "outputs": [
    {
     "data": {
      "text/plain": [
       "Delivery Time    0\n",
       "Sorting Time     0\n",
       "dtype: int64"
      ]
     },
     "execution_count": 8,
     "metadata": {},
     "output_type": "execute_result"
    }
   ],
   "source": [
    "time.isna().sum()"
   ]
  },
  {
   "cell_type": "code",
   "execution_count": 9,
   "id": "d6c47717",
   "metadata": {},
   "outputs": [
    {
     "data": {
      "text/plain": [
       "<AxesSubplot:>"
      ]
     },
     "execution_count": 9,
     "metadata": {},
     "output_type": "execute_result"
    },
    {
     "data": {
      "image/png": "[encoded data removed]",
      "text/plain": [
       "<Figure size 432x288 with 2 Axes>"
      ]
     },
     "metadata": {},
     "output_type": "display_data"
    }
   ],
   "source": [
    "colors=['#ffff00','#000099']\n",
    "sns.heatmap(time.isnull(),cmap=sns.color_palette(colors))"
   ]
  },
  {
   "cell_type": "code",
   "execution_count": null,
   "id": "aef3f972",
   "metadata": {},
   "outputs": [],
   "source": [
    "# No Missing Values"
   ]
  },
  {
   "cell_type": "code",
   "execution_count": 10,
   "id": "ce2d3089",
   "metadata": {},
   "outputs": [
    {
     "data": {
      "text/plain": [
       "(0, 2)"
      ]
     },
     "execution_count": 10,
     "metadata": {},
     "output_type": "execute_result"
    }
   ],
   "source": [
    "# Check any duplicates\n",
    "time[time.duplicated()].shape"
   ]
  },
  {
   "cell_type": "code",
   "execution_count": null,
   "id": "258e5b0a",
   "metadata": {},
   "outputs": [],
   "source": [
    "# NO duplicates"
   ]
  },
  {
   "cell_type": "code",
   "execution_count": 11,
   "id": "1c8c5c88",
   "metadata": {},
   "outputs": [
    {
     "data": {
      "text/plain": [
       "Text(0.5, 1.0, 'Outliers checking for Delivery Time')"
      ]
     },
     "execution_count": 11,
     "metadata": {},
     "output_type": "execute_result"
    },
    {
     "data": {
      "image/png": "[encoded data removed]",
      "text/plain": [
       "<Figure size 432x288 with 1 Axes>"
      ]
     },
     "metadata": {},
     "output_type": "display_data"
    }
   ],
   "source": [
    "# Weither Any Outliers present\n",
    "\n",
    "sns.boxplot(time['Delivery Time'])\n",
    "plt.title('Outliers checking for Delivery Time')"
   ]
  },
  {
   "cell_type": "code",
   "execution_count": 12,
   "id": "b22b25c5",
   "metadata": {},
   "outputs": [
    {
     "data": {
      "text/plain": [
       "Text(0.5, 1.0, 'Outliers checking for Sorting Time')"
      ]
     },
     "execution_count": 12,
     "metadata": {},
     "output_type": "execute_result"
    },
    {
     "data": {
      "image/png": "[encoded data removed]",
      "text/plain": [
       "<Figure size 432x288 with 1 Axes>"
      ]
     },
     "metadata": {},
     "output_type": "display_data"
    }
   ],
   "source": [
    "sns.boxplot(y=time['Sorting Time'])\n",
    "plt.title('Outliers checking for Sorting Time')"
   ]
  },
  {
   "cell_type": "code",
   "execution_count": null,
   "id": "1d21229d",
   "metadata": {},
   "outputs": [],
   "source": [
    "# No outliers in the data"
   ]
  },
  {
   "cell_type": "code",
   "execution_count": null,
   "id": "3c03cab1",
   "metadata": {},
   "outputs": [],
   "source": []
  },
  {
   "cell_type": "markdown",
   "id": "7fd3aad0",
   "metadata": {},
   "source": [
    "### Step 1: Understanding the Linearity "
   ]
  },
  {
   "cell_type": "code",
   "execution_count": 13,
   "id": "63341569",
   "metadata": {},
   "outputs": [
    {
     "data": {
      "text/plain": [
       "Text(0.5, 1.0, 'Predicting delivery time using sorting time')"
      ]
     },
     "execution_count": 13,
     "metadata": {},
     "output_type": "execute_result"
    },
    {
     "data": {
      "image/png": "[encoded data removed]",
      "text/plain": [
       "<Figure size 1296x504 with 1 Axes>"
      ]
     },
     "metadata": {},
     "output_type": "display_data"
    }
   ],
   "source": [
    "# Scatter plot\n",
    "\n",
    "plt.figure(figsize=(18,7),facecolor='g')\n",
    "plt.scatter(time['Sorting Time'],time['Delivery Time'],marker = '*')\n",
    "\n",
    "plt.xlabel('Sorting Time')\n",
    "plt.ylabel('Delivery Time')\n",
    "plt.title('Predicting delivery time using sorting time')"
   ]
  },
  {
   "cell_type": "code",
   "execution_count": 14,
   "id": "c0dca0db",
   "metadata": {},
   "outputs": [
    {
     "data": {
      "text/plain": [
       "<seaborn.axisgrid.PairGrid at 0x11d6e28faf0>"
      ]
     },
     "execution_count": 14,
     "metadata": {},
     "output_type": "execute_result"
    },
    {
     "data": {
      "image/png": "[encoded data removed]",
      "text/plain": [
       "<Figure size 360x360 with 6 Axes>"
      ]
     },
     "metadata": {},
     "output_type": "display_data"
    }
   ],
   "source": [
    "sns.pairplot(time)"
   ]
  },
  {
   "cell_type": "code",
   "execution_count": 15,
   "id": "eba6d5ed",
   "metadata": {},
   "outputs": [
    {
     "data": {
      "text/html": [
       "<div>\n",
       "<style scoped>\n",
       "    .dataframe tbody tr th:only-of-type {\n",
       "        vertical-align: middle;\n",
       "    }\n",
       "\n",
       "    .dataframe tbody tr th {\n",
       "        vertical-align: top;\n",
       "    }\n",
       "\n",
       "    .dataframe thead th {\n",
       "        text-align: right;\n",
       "    }\n",
       "</style>\n",
       "<table border=\"1\" class=\"dataframe\">\n",
       "  <thead>\n",
       "    <tr style=\"text-align: right;\">\n",
       "      <th></th>\n",
       "      <th>Delivery Time</th>\n",
       "      <th>Sorting Time</th>\n",
       "    </tr>\n",
       "  </thead>\n",
       "  <tbody>\n",
       "    <tr>\n",
       "      <th>Delivery Time</th>\n",
       "      <td>1.000000</td>\n",
       "      <td>0.825997</td>\n",
       "    </tr>\n",
       "    <tr>\n",
       "      <th>Sorting Time</th>\n",
       "      <td>0.825997</td>\n",
       "      <td>1.000000</td>\n",
       "    </tr>\n",
       "  </tbody>\n",
       "</table>\n",
       "</div>"
      ],
      "text/plain": [
       "               Delivery Time  Sorting Time\n",
       "Delivery Time       1.000000      0.825997\n",
       "Sorting Time        0.825997      1.000000"
      ]
     },
     "execution_count": 15,
     "metadata": {},
     "output_type": "execute_result"
    }
   ],
   "source": [
    "time.corr()"
   ]
  },
  {
   "cell_type": "code",
   "execution_count": null,
   "id": "13b72376",
   "metadata": {},
   "outputs": [],
   "source": [
    "## there is Strong corelation between Delivery & Sorting Time , r=0.8259 > 0.8"
   ]
  },
  {
   "cell_type": "code",
   "execution_count": 16,
   "id": "3c99f77d",
   "metadata": {},
   "outputs": [
    {
     "data": {
      "text/plain": [
       "<AxesSubplot:>"
      ]
     },
     "execution_count": 16,
     "metadata": {},
     "output_type": "execute_result"
    },
    {
     "data": {
      "image/png": "[encoded data removed]",
      "text/plain": [
       "<Figure size 432x288 with 2 Axes>"
      ]
     },
     "metadata": {},
     "output_type": "display_data"
    }
   ],
   "source": [
    "corrMatrics = time.corr()\n",
    "\n",
    "sns.heatmap(corrMatrics,annot=True)\n"
   ]
  },
  {
   "cell_type": "code",
   "execution_count": null,
   "id": "a867189e",
   "metadata": {},
   "outputs": [],
   "source": []
  },
  {
   "cell_type": "markdown",
   "id": "179555df",
   "metadata": {},
   "source": [
    "### Step 2 : Creating the Linear Model"
   ]
  },
  {
   "cell_type": "code",
   "execution_count": 17,
   "id": "cba90ad7",
   "metadata": {},
   "outputs": [
    {
     "data": {
      "text/plain": [
       "(21, 2)"
      ]
     },
     "execution_count": 17,
     "metadata": {},
     "output_type": "execute_result"
    }
   ],
   "source": [
    "time.shape"
   ]
  },
  {
   "cell_type": "code",
   "execution_count": 18,
   "id": "01deee0b",
   "metadata": {},
   "outputs": [],
   "source": [
    "lr=LinearRegression()\n",
    "\n",
    "x = time['Sorting Time'].values.reshape(21,1) \n",
    "y = time['Delivery Time'].values.reshape(21,1) \n",
    "\n",
    "\n",
    "time_skl = lr.fit(x,y)"
   ]
  },
  {
   "cell_type": "code",
   "execution_count": 19,
   "id": "ac38ddea",
   "metadata": {},
   "outputs": [
    {
     "name": "stdout",
     "output_type": "stream",
     "text": [
      "The LR line coefficient is - [[1.6490199]]\n",
      "The LR Line intercept is - [6.58273397]\n"
     ]
    }
   ],
   "source": [
    "print(f'The LR line coefficient is - {time_skl.coef_}')\n",
    "print(f'The LR Line intercept is - {time_skl.intercept_}')"
   ]
  },
  {
   "cell_type": "code",
   "execution_count": 20,
   "id": "0115a9d4",
   "metadata": {},
   "outputs": [
    {
     "data": {
      "text/plain": [
       "array([[23.07293294],\n",
       "       [13.17881356],\n",
       "       [16.47685335],\n",
       "       [21.42391304],\n",
       "       [23.07293294],\n",
       "       [16.47685335],\n",
       "       [18.12587325],\n",
       "       [11.52979366],\n",
       "       [23.07293294],\n",
       "       [21.42391304],\n",
       "       [19.77489315],\n",
       "       [13.17881356],\n",
       "       [18.12587325],\n",
       "       [11.52979366],\n",
       "       [11.52979366],\n",
       "       [13.17881356],\n",
       "       [16.47685335],\n",
       "       [18.12587325],\n",
       "       [ 9.88077377],\n",
       "       [18.12587325],\n",
       "       [14.82783346]])"
      ]
     },
     "execution_count": 20,
     "metadata": {},
     "output_type": "execute_result"
    }
   ],
   "source": [
    "# finding the predicted values\n",
    "\n",
    "pred = time_skl.predict(x)\n",
    "pred"
   ]
  },
  {
   "cell_type": "code",
   "execution_count": 21,
   "id": "8c95cec4",
   "metadata": {},
   "outputs": [
    {
     "data": {
      "text/plain": [
       "Text(0.5, 1.0, 'Predicting Delivery Time from Sorting Time')"
      ]
     },
     "execution_count": 21,
     "metadata": {},
     "output_type": "execute_result"
    },
    {
     "data": {
      "image/png": "[encoded data removed]",
      "text/plain": [
       "<Figure size 1296x504 with 1 Axes>"
      ]
     },
     "metadata": {},
     "output_type": "display_data"
    }
   ],
   "source": [
    "# lets Plot Scatter Plot with Regression Line - with help of (x,predicted y)\n",
    "\n",
    "plt.figure(figsize=(18,7),facecolor='g')\n",
    "plt.scatter(x,y,marker=\"*\")\n",
    "\n",
    "plt.plot(x,pred,color='r') #(x,y^)\n",
    "\n",
    "plt.xlabel('Sorting Time')\n",
    "plt.ylabel('Delivery Time')\n",
    "plt.title('Predicting Delivery Time from Sorting Time')"
   ]
  },
  {
   "cell_type": "code",
   "execution_count": null,
   "id": "4947e6b2",
   "metadata": {},
   "outputs": [],
   "source": []
  },
  {
   "cell_type": "markdown",
   "id": "24de46cf",
   "metadata": {},
   "source": [
    "### Step 3: Model Fitness : How Good Model is?"
   ]
  },
  {
   "cell_type": "code",
   "execution_count": 22,
   "id": "63ee0b9e",
   "metadata": {},
   "outputs": [
    {
     "name": "stdout",
     "output_type": "stream",
     "text": [
      "r2 Score is : 0.6822714748417231\n"
     ]
    }
   ],
   "source": [
    "r2score = r2_score(y,pred)\n",
    "print('r2 Score is :',r2score)"
   ]
  },
  {
   "cell_type": "markdown",
   "id": "54884add",
   "metadata": {},
   "source": [
    "### Improving the R2 : Better Model"
   ]
  },
  {
   "cell_type": "code",
   "execution_count": 23,
   "id": "7198a251",
   "metadata": {},
   "outputs": [
    {
     "name": "stdout",
     "output_type": "stream",
     "text": [
      "The LR line coefficient is - [[9.04341346]]\n",
      "The LR Line intercept is - [1.15968351]\n"
     ]
    },
    {
     "data": {
      "text/plain": [
       "0.6954434611324223"
      ]
     },
     "execution_count": 23,
     "metadata": {},
     "output_type": "execute_result"
    }
   ],
   "source": [
    "x1 = np.log(x)\n",
    "y1=y\n",
    "\n",
    "model1 = lr.fit(x1,y1)\n",
    "\n",
    "print(f'The LR line coefficient is - {model1.coef_}')\n",
    "print(f'The LR Line intercept is - {model1.intercept_}')\n",
    "\n",
    "pred1 = model1.predict(x1)\n",
    "\n",
    "r2score = r2_score(y1,pred1)\n",
    "r2score"
   ]
  },
  {
   "cell_type": "code",
   "execution_count": 24,
   "id": "ccc62629",
   "metadata": {},
   "outputs": [
    {
     "name": "stdout",
     "output_type": "stream",
     "text": [
      "The LR line coefficient is - [[0.59752233]]\n",
      "The LR Line intercept is - [1.74198709]\n"
     ]
    },
    {
     "data": {
      "text/plain": [
       "0.77216134926874"
      ]
     },
     "execution_count": 24,
     "metadata": {},
     "output_type": "execute_result"
    }
   ],
   "source": [
    "x2 = np.log(x)\n",
    "y2 = np.log(y)\n",
    "\n",
    "model2 = lr.fit(x2,y2)\n",
    "\n",
    "print(f'The LR line coefficient is - {model2.coef_}')\n",
    "print(f'The LR Line intercept is - {model2.intercept_}')\n",
    "\n",
    "pred2 = model2.predict(x2)\n",
    "\n",
    "r2score = r2_score(y2,pred2)\n",
    "r2score"
   ]
  },
  {
   "cell_type": "code",
   "execution_count": 25,
   "id": "3a6d8be2",
   "metadata": {},
   "outputs": [
    {
     "name": "stdout",
     "output_type": "stream",
     "text": [
      "The LR line coefficient is - [[0.33566048]]\n",
      "The LR Line intercept is - [0.84469002]\n"
     ]
    },
    {
     "data": {
      "text/plain": [
       "0.8025094580937899"
      ]
     },
     "execution_count": 25,
     "metadata": {},
     "output_type": "execute_result"
    }
   ],
   "source": [
    "x3 = np.log(x2)\n",
    "y3 = np.log(y2)\n",
    "\n",
    "model3 = lr.fit(x3,y3)\n",
    "\n",
    "print(f'The LR line coefficient is - {model3.coef_}')\n",
    "print(f'The LR Line intercept is - {model3.intercept_}')\n",
    "\n",
    "pred3 = model3.predict(x3)\n",
    "\n",
    "r2score = r2_score(y3,pred3)\n",
    "r2score"
   ]
  },
  {
   "cell_type": "code",
   "execution_count": null,
   "id": "8812d10c",
   "metadata": {},
   "outputs": [],
   "source": []
  },
  {
   "cell_type": "code",
   "execution_count": 26,
   "id": "7d1079a7",
   "metadata": {},
   "outputs": [
    {
     "data": {
      "text/plain": [
       "Text(0.5, 1.0, 'Predicting Delivery Time using Sorting Time')"
      ]
     },
     "execution_count": 26,
     "metadata": {},
     "output_type": "execute_result"
    },
    {
     "data": {
      "image/png": "[encoded data removed]",
      "text/plain": [
       "<Figure size 432x288 with 1 Axes>"
      ]
     },
     "metadata": {},
     "output_type": "display_data"
    }
   ],
   "source": [
    "sns.regplot(x=x3,y=y3,fit_reg=True)\n",
    "\n",
    "plt.ylabel('Delivery TIme')\n",
    "plt.xlabel('Sorting TIme')\n",
    "plt.title('Predicting Delivery Time using Sorting Time')"
   ]
  },
  {
   "cell_type": "code",
   "execution_count": null,
   "id": "c68bbac3",
   "metadata": {},
   "outputs": [],
   "source": []
  }
 ],
 "metadata": {
  "kernelspec": {
   "display_name": "Python 3",
   "language": "python",
   "name": "python3"
  },
  "language_info": {
   "codemirror_mode": {
    "name": "ipython",
    "version": 3
   },
   "file_extension": ".py",
   "mimetype": "text/x-python",
   "name": "python",
   "nbconvert_exporter": "python",
   "pygments_lexer": "ipython3",
   "version": "3.8.8"
  },
  "varInspector": {
   "cols": {
    "lenName": 16,
    "lenType": 16,
    "lenVar": 40
   },
   "kernels_config": {
    "python": {
     "delete_cmd_postfix": "",
     "delete_cmd_prefix": "del ",
     "library": "var_list.py",
     "varRefreshCmd": "print(var_dic_list())"
    },
    "r": {
     "delete_cmd_postfix": ") ",
     "delete_cmd_prefix": "rm(",
     "library": "var_list.r",
     "varRefreshCmd": "cat(var_dic_list()) "
    }
   },
   "types_to_exclude": [
    "module",
    "function",
    "builtin_function_or_method",
    "instance",
    "_Feature"
   ],
   "window_display": false
  }
 },
 "nbformat": 4,
 "nbformat_minor": 5
}
